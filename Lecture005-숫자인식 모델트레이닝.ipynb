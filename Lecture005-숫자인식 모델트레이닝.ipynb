{
 "cells": [
  {
   "cell_type": "markdown",
   "metadata": {},
   "source": [
    "<img src='https://www.anadronestarting.com/wp-content/uploads/intel-main_opt.png' width=50%>\n",
    "\n",
    "# Lecture005 - 숫자인식 모델트레이닝 - MNIST\n",
    "<font size=5><b>(Image Classification using Mobilenet)<b></font>\n",
    "\n",
    "<div align='right'>성  민  석 (Minsuk Sung)</div>\n",
    "<div align='right'>이  인  구 (Ike Lee)</div>\n",
    "\n",
    "<img src='https://upload.wikimedia.org/wikipedia/commons/thumb/2/27/MnistExamples.png/440px-MnistExamples.png' width=60%>\n",
    "\n",
    "---"
   ]
  },
  {
   "cell_type": "markdown",
   "metadata": {
    "toc": true
   },
   "source": [
    "<h1>강의목차<span class=\"tocSkip\"></span></h1>\n",
    "<div class=\"toc\"><ul class=\"toc-item\"><li><span><a href=\"#필요한-라이브러리-및-옵션\" data-toc-modified-id=\"필요한-라이브러리-및-옵션-1\"><span class=\"toc-item-num\">1&nbsp;&nbsp;</span>필요한 라이브러리 및 옵션</a></span><ul class=\"toc-item\"><li><span><a href=\"#기본-라이브러리(Library)\" data-toc-modified-id=\"기본-라이브러리(Library)-1.1\"><span class=\"toc-item-num\">1.1&nbsp;&nbsp;</span>기본 라이브러리(Library)</a></span></li><li><span><a href=\"#Keras,-Tensorflow와-손을-잡다!\" data-toc-modified-id=\"Keras,-Tensorflow와-손을-잡다!-1.2\"><span class=\"toc-item-num\">1.2&nbsp;&nbsp;</span>Keras, Tensorflow와 손을 잡다!</a></span><ul class=\"toc-item\"><li><span><a href=\"#신경망-구현-순서¶\" data-toc-modified-id=\"신경망-구현-순서¶-1.2.1\"><span class=\"toc-item-num\">1.2.1&nbsp;&nbsp;</span>신경망 구현 순서¶</a></span></li></ul></li><li><span><a href=\"#옵션(Option)\" data-toc-modified-id=\"옵션(Option)-1.3\"><span class=\"toc-item-num\">1.3&nbsp;&nbsp;</span>옵션(Option)</a></span></li></ul></li><li><span><a href=\"#예제---MNIST\" data-toc-modified-id=\"예제---MNIST-2\"><span class=\"toc-item-num\">2&nbsp;&nbsp;</span>예제 - MNIST</a></span><ul class=\"toc-item\"><li><span><a href=\"#MNIST-데이터-불러오기\" data-toc-modified-id=\"MNIST-데이터-불러오기-2.1\"><span class=\"toc-item-num\">2.1&nbsp;&nbsp;</span>MNIST 데이터 불러오기</a></span></li><li><span><a href=\"#MNIST-데이터-형태-확인하기\" data-toc-modified-id=\"MNIST-데이터-형태-확인하기-2.2\"><span class=\"toc-item-num\">2.2&nbsp;&nbsp;</span>MNIST 데이터 형태 확인하기</a></span><ul class=\"toc-item\"><li><span><a href=\"#Train-데이터셋\" data-toc-modified-id=\"Train-데이터셋-2.2.1\"><span class=\"toc-item-num\">2.2.1&nbsp;&nbsp;</span>Train 데이터셋</a></span></li><li><span><a href=\"#Validation-데이터셋\" data-toc-modified-id=\"Validation-데이터셋-2.2.2\"><span class=\"toc-item-num\">2.2.2&nbsp;&nbsp;</span>Validation 데이터셋</a></span></li><li><span><a href=\"#Test-데이터셋\" data-toc-modified-id=\"Test-데이터셋-2.2.3\"><span class=\"toc-item-num\">2.2.3&nbsp;&nbsp;</span>Test 데이터셋</a></span></li></ul></li><li><span><a href=\"#데이터-시각화하기\" data-toc-modified-id=\"데이터-시각화하기-2.3\"><span class=\"toc-item-num\">2.3&nbsp;&nbsp;</span>데이터 시각화하기</a></span></li><li><span><a href=\"#데이터-전처리\" data-toc-modified-id=\"데이터-전처리-2.4\"><span class=\"toc-item-num\">2.4&nbsp;&nbsp;</span>데이터 전처리</a></span></li><li><span><a href=\"#모델링\" data-toc-modified-id=\"모델링-2.5\"><span class=\"toc-item-num\">2.5&nbsp;&nbsp;</span>모델링</a></span><ul class=\"toc-item\"><li><span><a href=\"#모델-구성\" data-toc-modified-id=\"모델-구성-2.5.1\"><span class=\"toc-item-num\">2.5.1&nbsp;&nbsp;</span>모델 구성</a></span></li><li><span><a href=\"#모델-컴파일\" data-toc-modified-id=\"모델-컴파일-2.5.2\"><span class=\"toc-item-num\">2.5.2&nbsp;&nbsp;</span>모델 컴파일</a></span></li><li><span><a href=\"#모델-확인\" data-toc-modified-id=\"모델-확인-2.5.3\"><span class=\"toc-item-num\">2.5.3&nbsp;&nbsp;</span>모델 확인</a></span></li></ul></li><li><span><a href=\"#신경망-모델-학습\" data-toc-modified-id=\"신경망-모델-학습-2.6\"><span class=\"toc-item-num\">2.6&nbsp;&nbsp;</span>신경망 모델 학습</a></span></li><li><span><a href=\"#신경망-모델-평가\" data-toc-modified-id=\"신경망-모델-평가-2.7\"><span class=\"toc-item-num\">2.7&nbsp;&nbsp;</span>신경망 모델 평가</a></span></li><li><span><a href=\"#신경망-모델-검증하기\" data-toc-modified-id=\"신경망-모델-검증하기-2.8\"><span class=\"toc-item-num\">2.8&nbsp;&nbsp;</span>신경망 모델 검증하기</a></span></li><li><span><a href=\"#다음-예제에서는\" data-toc-modified-id=\"다음-예제에서는-2.9\"><span class=\"toc-item-num\">2.9&nbsp;&nbsp;</span>다음 예제에서는</a></span></li></ul></li><li><span><a href=\"#참고\" data-toc-modified-id=\"참고-3\"><span class=\"toc-item-num\">3&nbsp;&nbsp;</span>참고</a></span></li></ul></div>"
   ]
  },
  {
   "cell_type": "markdown",
   "metadata": {},
   "source": [
    "## 필요한 라이브러리 및 옵션\n",
    "\n",
    "### 기본 라이브러리(Library)"
   ]
  },
  {
   "cell_type": "code",
   "execution_count": 1,
   "metadata": {
    "ExecuteTime": {
     "end_time": "2019-11-13T06:58:43.385232Z",
     "start_time": "2019-11-13T06:58:43.366625Z"
    }
   },
   "outputs": [],
   "source": [
    "import os\n",
    "import sys\n",
    "import glob\n",
    "import random\n",
    "import warnings\n",
    "import itertools\n",
    "from tqdm import tqdm\n",
    "from pathlib import Path"
   ]
  },
  {
   "cell_type": "code",
   "execution_count": 2,
   "metadata": {
    "ExecuteTime": {
     "end_time": "2019-11-13T06:58:44.223888Z",
     "start_time": "2019-11-13T06:58:43.747416Z"
    }
   },
   "outputs": [],
   "source": [
    "import numpy as np\n",
    "import pandas as pd\n",
    "import seaborn as sns\n",
    "import matplotlib.pyplot as plt\n",
    "from collections import Counter"
   ]
  },
  {
   "cell_type": "code",
   "execution_count": 3,
   "metadata": {
    "ExecuteTime": {
     "end_time": "2019-11-13T06:58:54.393624Z",
     "start_time": "2019-11-13T06:58:54.226363Z"
    }
   },
   "outputs": [],
   "source": [
    "import cv2\n",
    "from PIL import Image\n",
    "from PIL import ImageFont\n",
    "from PIL import ImageDraw\n",
    "from IPython.display import SVG\n",
    "from sklearn.preprocessing import LabelEncoder\n",
    "from sklearn.model_selection import train_test_split\n",
    "import xml.etree.ElementTree as ET\n",
    "from xml.etree.ElementTree import Element, ElementTree"
   ]
  },
  {
   "cell_type": "markdown",
   "metadata": {},
   "source": [
    "### Keras, Tensorflow와 손을 잡다!\n",
    "\n",
    "> Tensorflow + Keras = tf.Keras !!\n",
    "\n",
    "<img src='https://blog.keras.io/img/keras-tensorflow-logo.jpg' width=80%>"
   ]
  },
  {
   "cell_type": "code",
   "execution_count": 4,
   "metadata": {
    "ExecuteTime": {
     "end_time": "2019-11-13T06:59:19.868542Z",
     "start_time": "2019-11-13T06:59:19.107163Z"
    }
   },
   "outputs": [
    {
     "name": "stderr",
     "output_type": "stream",
     "text": [
      "Using TensorFlow backend.\n",
      "/home/intel/imobilenet/myvenv/lib/python3.5/site-packages/tensorflow/python/framework/dtypes.py:516: FutureWarning: Passing (type, 1) or '1type' as a synonym of type is deprecated; in a future version of numpy, it will be understood as (type, (1,)) / '(1,)type'.\n",
      "  _np_qint8 = np.dtype([(\"qint8\", np.int8, 1)])\n",
      "/home/intel/imobilenet/myvenv/lib/python3.5/site-packages/tensorflow/python/framework/dtypes.py:517: FutureWarning: Passing (type, 1) or '1type' as a synonym of type is deprecated; in a future version of numpy, it will be understood as (type, (1,)) / '(1,)type'.\n",
      "  _np_quint8 = np.dtype([(\"quint8\", np.uint8, 1)])\n",
      "/home/intel/imobilenet/myvenv/lib/python3.5/site-packages/tensorflow/python/framework/dtypes.py:518: FutureWarning: Passing (type, 1) or '1type' as a synonym of type is deprecated; in a future version of numpy, it will be understood as (type, (1,)) / '(1,)type'.\n",
      "  _np_qint16 = np.dtype([(\"qint16\", np.int16, 1)])\n",
      "/home/intel/imobilenet/myvenv/lib/python3.5/site-packages/tensorflow/python/framework/dtypes.py:519: FutureWarning: Passing (type, 1) or '1type' as a synonym of type is deprecated; in a future version of numpy, it will be understood as (type, (1,)) / '(1,)type'.\n",
      "  _np_quint16 = np.dtype([(\"quint16\", np.uint16, 1)])\n",
      "/home/intel/imobilenet/myvenv/lib/python3.5/site-packages/tensorflow/python/framework/dtypes.py:520: FutureWarning: Passing (type, 1) or '1type' as a synonym of type is deprecated; in a future version of numpy, it will be understood as (type, (1,)) / '(1,)type'.\n",
      "  _np_qint32 = np.dtype([(\"qint32\", np.int32, 1)])\n",
      "/home/intel/imobilenet/myvenv/lib/python3.5/site-packages/tensorflow/python/framework/dtypes.py:525: FutureWarning: Passing (type, 1) or '1type' as a synonym of type is deprecated; in a future version of numpy, it will be understood as (type, (1,)) / '(1,)type'.\n",
      "  np_resource = np.dtype([(\"resource\", np.ubyte, 1)])\n",
      "/home/intel/imobilenet/myvenv/lib/python3.5/site-packages/tensorboard/compat/tensorflow_stub/dtypes.py:541: FutureWarning: Passing (type, 1) or '1type' as a synonym of type is deprecated; in a future version of numpy, it will be understood as (type, (1,)) / '(1,)type'.\n",
      "  _np_qint8 = np.dtype([(\"qint8\", np.int8, 1)])\n",
      "/home/intel/imobilenet/myvenv/lib/python3.5/site-packages/tensorboard/compat/tensorflow_stub/dtypes.py:542: FutureWarning: Passing (type, 1) or '1type' as a synonym of type is deprecated; in a future version of numpy, it will be understood as (type, (1,)) / '(1,)type'.\n",
      "  _np_quint8 = np.dtype([(\"quint8\", np.uint8, 1)])\n",
      "/home/intel/imobilenet/myvenv/lib/python3.5/site-packages/tensorboard/compat/tensorflow_stub/dtypes.py:543: FutureWarning: Passing (type, 1) or '1type' as a synonym of type is deprecated; in a future version of numpy, it will be understood as (type, (1,)) / '(1,)type'.\n",
      "  _np_qint16 = np.dtype([(\"qint16\", np.int16, 1)])\n",
      "/home/intel/imobilenet/myvenv/lib/python3.5/site-packages/tensorboard/compat/tensorflow_stub/dtypes.py:544: FutureWarning: Passing (type, 1) or '1type' as a synonym of type is deprecated; in a future version of numpy, it will be understood as (type, (1,)) / '(1,)type'.\n",
      "  _np_quint16 = np.dtype([(\"quint16\", np.uint16, 1)])\n",
      "/home/intel/imobilenet/myvenv/lib/python3.5/site-packages/tensorboard/compat/tensorflow_stub/dtypes.py:545: FutureWarning: Passing (type, 1) or '1type' as a synonym of type is deprecated; in a future version of numpy, it will be understood as (type, (1,)) / '(1,)type'.\n",
      "  _np_qint32 = np.dtype([(\"qint32\", np.int32, 1)])\n",
      "/home/intel/imobilenet/myvenv/lib/python3.5/site-packages/tensorboard/compat/tensorflow_stub/dtypes.py:550: FutureWarning: Passing (type, 1) or '1type' as a synonym of type is deprecated; in a future version of numpy, it will be understood as (type, (1,)) / '(1,)type'.\n",
      "  np_resource = np.dtype([(\"resource\", np.ubyte, 1)])\n"
     ]
    }
   ],
   "source": [
    "import keras\n",
    "import tensorflow as tf\n",
    "from tensorflow.keras.datasets import mnist,cifar10\n",
    "from tensorflow.keras.preprocessing.image import load_img,img_to_array,ImageDataGenerator\n",
    "from tensorflow.keras.applications import MobileNet, MobileNetV2\n",
    "from tensorflow.keras.models import Model,Sequential\n",
    "from tensorflow.keras.layers import Dense, Conv2D, Flatten, Dropout, MaxPooling2D, Conv2D,GlobalAveragePooling2D\n",
    "from tensorflow.keras.optimizers import RMSprop, Adam\n",
    "from tensorflow.keras.utils import to_categorical,plot_model\n",
    "from tensorflow.keras.losses import categorical_crossentropy\n",
    "from tensorflow.keras.callbacks import Callback\n",
    "from tensorflow.python.client import device_lib"
   ]
  },
  {
   "cell_type": "markdown",
   "metadata": {},
   "source": [
    "#### 신경망 구현 순서¶\n",
    "Keras 를 사용하면 다음과 같은 순서로 신경망을 구성할 수 있다.\n",
    "\n",
    "1. Sequential 모형 클래스 객체 생성\n",
    "\n",
    "\n",
    "2. add 메서드로 레이어 추가.\n",
    "\n",
    "    - 입력단부터 순차적으로 추가한다.\n",
    "    - 레이어는 출력 뉴런 갯수를 첫번째 인수로 받는다.\n",
    "    - 최초의 레이어는 input_dim 인수로 입력 크기를 설정해야 한다.\n",
    "    - activation 인수로 활성화함수 설정\n",
    "\n",
    "\n",
    "3. compile 메서드로 모형 완성.\n",
    "\n",
    "    - loss인수로 비용함수 설정\n",
    "    - optimizer 인수로 최적화 알고리즘 설정\n",
    "    - metrics 인수로 트레이닝 단계에서 기록할 성능 기준 설정\n",
    "\n",
    "\n",
    "4. fit 메서드로 트레이닝\n",
    "\n",
    "    - nb_epoch 로 에포크(epoch) 횟수 설정\n",
    "    - batch_size 로 배치크기(batch size) 설정\n",
    "    - verbose는 학습 중 출력되는 문구를 설정하는 것으로, 주피터노트북(Jupyter Notebook)을 사용할 때는 verbose=2로 설정하여 진행 막대(progress bar)가 나오지 않도록 설정한다."
   ]
  },
  {
   "cell_type": "markdown",
   "metadata": {},
   "source": [
    "### 옵션(Option)"
   ]
  },
  {
   "cell_type": "code",
   "execution_count": 5,
   "metadata": {
    "ExecuteTime": {
     "end_time": "2019-11-13T07:00:09.613593Z",
     "start_time": "2019-11-13T07:00:09.462414Z"
    },
    "scrolled": false
   },
   "outputs": [],
   "source": [
    "# os.environ[\"CUDA_VISIBLE_DEVICES\"]=\"0\"\n",
    "\n",
    "# warnings.filterwarnings(action='ignore')\n",
    "# warnings.filterwarnings(action='default')\n",
    "\n",
    "%matplotlib inline\n",
    "# print(device_lib.list_local_devices())\n",
    "# keras.backend.tensorflow_backend._get_available_gpus()"
   ]
  },
  {
   "cell_type": "markdown",
   "metadata": {},
   "source": [
    "---\n",
    "\n",
    "## 예제 - MNIST\n",
    "\n",
    "![](https://upload.wikimedia.org/wikipedia/commons/2/27/MnistExamples.png)\n",
    "\n",
    "MNIST 데이터베이스 (Modified National Institute of Standards and Technology database)는 손으로 쓴 **`0~9까지 숫자`들로 이루어진 대형 데이터베이스**이며, 다양한 화상 처리 시스템을 트레이닝하기 위해 일반적으로 사용된다. 이 데이터베이스는 또한 기계 학습 분야의 트레이닝 및 테스트에 널리 사용된다. NIST의 오리지널 데이터셋의 샘플을 재혼합하여 만들어졌다. 개발자들은 NIST의 트레이닝 데이터셋이 미국의 인구조사국 직원들로부터 취합한 이후로 테스팅 데이터셋이 미국의 중등학교 학생들로부터 취합되는 중에 기계 학습 실험에 딱 적합하지는 않은 것을 느꼈다. 게다가 NIST의 흑백 그림들은 28x28 픽셀의 바운딩 박스와 앤티엘리어싱 처리되어 그레이스케일 레벨이 들어가 있도록 평준화되었다. MNIST sample images. MNIST 테스트 데이터셋의 샘플 이미지. MNIST 데이터베이스는 **`60,000개의 트레이닝 이미지와 10,000개의 테스트 이미지를 포함`** 한다. 트레이닝 세트의 절반과 테스트 세트의 절반은 NIST의 트레이닝 데이터셋에서 취합하였으며, 그 밖의 트레이닝 세트의 절반과 테스트 세트의 절반은 NIST의 테스트 데이터셋으로부터 취합되었다.\n",
    "\n",
    "출처 : [위키백과](https://ko.wikipedia.org/wiki/MNIST_%EB%8D%B0%EC%9D%B4%ED%84%B0%EB%B2%A0%EC%9D%B4%EC%8A%A4)"
   ]
  },
  {
   "cell_type": "markdown",
   "metadata": {},
   "source": [
    "### MNIST 데이터 불러오기\n",
    "\n",
    "Keras에서는 MNIST와 같이 보편적으로 많이 쓰이는 데이터를 쉽게 가져올 수 있는 함수가 준비되어있다.  \n",
    "처음 함수 호출시에는 데이터 다운로드를 하기 위해서 어느정도 시간이 소요될 수 있다."
   ]
  },
  {
   "cell_type": "code",
   "execution_count": 6,
   "metadata": {
    "ExecuteTime": {
     "end_time": "2019-11-13T07:03:53.126318Z",
     "start_time": "2019-11-13T07:03:51.191575Z"
    }
   },
   "outputs": [],
   "source": [
    "# Keras에서 제공하는 MNIST 데이터를 불러오는 함수 : mnist.load_data()\n",
    "(X_train, y_train), (X_test,y_test) = mnist.load_data() "
   ]
  },
  {
   "cell_type": "code",
   "execution_count": 7,
   "metadata": {
    "ExecuteTime": {
     "end_time": "2019-11-13T07:04:34.225340Z",
     "start_time": "2019-11-13T07:04:34.219773Z"
    }
   },
   "outputs": [],
   "source": [
    "# Train / Validation 데이터 분리하기\n",
    "# Train 데이터를 Train / Validation 으로 나누어줌으로써 Overfitting 여부를 파악\n",
    "X_train, X_valid = X_train[:50000], X_train[50000:]\n",
    "y_train, y_valid = y_train[:50000], y_train[50000:]"
   ]
  },
  {
   "cell_type": "code",
   "execution_count": 8,
   "metadata": {
    "ExecuteTime": {
     "end_time": "2019-11-13T07:04:36.243806Z",
     "start_time": "2019-11-13T07:04:36.238259Z"
    }
   },
   "outputs": [
    {
     "name": "stdout",
     "output_type": "stream",
     "text": [
      "MNIST Train 데이터의 크기 : 50000\n",
      "MNIST Validation 데이터의 크기 : 10000\n",
      "MNIST Test 데이터의 크기 : 10000\n"
     ]
    }
   ],
   "source": [
    "# Train / Test 데이터의 크기 확인\n",
    "print('MNIST Train 데이터의 크기 : {}'.format(len(X_train)))\n",
    "print('MNIST Validation 데이터의 크기 : {}'.format(len(X_valid)))\n",
    "print('MNIST Test 데이터의 크기 : {}'.format(len(X_test)))"
   ]
  },
  {
   "cell_type": "markdown",
   "metadata": {},
   "source": [
    "### MNIST 데이터 형태 확인하기"
   ]
  },
  {
   "cell_type": "markdown",
   "metadata": {},
   "source": [
    "#### Train 데이터셋"
   ]
  },
  {
   "cell_type": "code",
   "execution_count": 9,
   "metadata": {
    "ExecuteTime": {
     "end_time": "2019-11-13T07:05:02.784316Z",
     "start_time": "2019-11-13T07:05:02.778503Z"
    }
   },
   "outputs": [
    {
     "name": "stdout",
     "output_type": "stream",
     "text": [
      "X_train Shape :  (50000, 28, 28)\n",
      "y_train Shape :  (50000,)\n"
     ]
    }
   ],
   "source": [
    "print(\"X_train Shape : \",X_train.shape) # 28*28짜리 크기의 숫자 이미지 50000개\n",
    "print(\"y_train Shape : \",y_train.shape) # 각 이미지별 레이블 50000개"
   ]
  },
  {
   "cell_type": "markdown",
   "metadata": {},
   "source": [
    "#### Validation 데이터셋"
   ]
  },
  {
   "cell_type": "code",
   "execution_count": 10,
   "metadata": {
    "ExecuteTime": {
     "end_time": "2019-11-13T07:05:06.899359Z",
     "start_time": "2019-11-13T07:05:06.893750Z"
    }
   },
   "outputs": [
    {
     "name": "stdout",
     "output_type": "stream",
     "text": [
      "X_val Shape :  (10000, 28, 28)\n",
      "y_val Shape :  (10000,)\n"
     ]
    }
   ],
   "source": [
    "print(\"X_val Shape : \",X_valid.shape) # 28*28짜리 크기의 숫자 이미지 10000개\n",
    "print(\"y_val Shape : \",y_valid.shape) # 각 이미지별 레이블 10000개"
   ]
  },
  {
   "cell_type": "markdown",
   "metadata": {},
   "source": [
    "#### Test 데이터셋"
   ]
  },
  {
   "cell_type": "code",
   "execution_count": 11,
   "metadata": {
    "ExecuteTime": {
     "end_time": "2019-11-13T07:05:08.855775Z",
     "start_time": "2019-11-13T07:05:08.850476Z"
    }
   },
   "outputs": [
    {
     "name": "stdout",
     "output_type": "stream",
     "text": [
      "X_test Shape :  (10000, 28, 28)\n",
      "y_test Shape :  (10000,)\n"
     ]
    }
   ],
   "source": [
    "print(\"X_test Shape : \",X_test.shape) # 28*28짜리 크기의 숫자 이미지 60000개\n",
    "print(\"y_test Shape : \",y_test.shape) # 각 이미지별 레이블 60000개"
   ]
  },
  {
   "cell_type": "markdown",
   "metadata": {},
   "source": [
    "### 데이터 시각화하기\n",
    "\n",
    "그러면 이제 구체적으로 MNIST의 Train 데이터셋의 첫번재 데이터를 확인해보자."
   ]
  },
  {
   "cell_type": "code",
   "execution_count": 12,
   "metadata": {
    "ExecuteTime": {
     "end_time": "2019-11-13T07:05:41.885880Z",
     "start_time": "2019-11-13T07:05:41.879698Z"
    },
    "scrolled": true
   },
   "outputs": [
    {
     "data": {
      "text/plain": [
       "array([[  0,   0,   0,   0,   0,   0,   0,   0,   0,   0,   0,   0,   0,\n",
       "          0,   0,   0,   0,   0,   0,   0,   0,   0,   0,   0,   0,   0,\n",
       "          0,   0],\n",
       "       [  0,   0,   0,   0,   0,   0,   0,   0,   0,   0,   0,   0,   0,\n",
       "          0,   0,   0,   0,   0,   0,   0,   0,   0,   0,   0,   0,   0,\n",
       "          0,   0],\n",
       "       [  0,   0,   0,   0,   0,   0,   0,   0,   0,   0,   0,   0,   0,\n",
       "          0,   0,   0,   0,   0,   0,   0,   0,   0,   0,   0,   0,   0,\n",
       "          0,   0],\n",
       "       [  0,   0,   0,   0,   0,   0,   0,   0,   0,   0,   0,   0,   0,\n",
       "          0,   0,   0,   0,   0,   0,   0,   0,   0,   0,   0,   0,   0,\n",
       "          0,   0],\n",
       "       [  0,   0,   0,   0,   0,   0,   0,   0,   0,   0,   0,   0,   0,\n",
       "          0,   0,   0,   0,   0,   0,   0,   0,   0,   0,   0,   0,   0,\n",
       "          0,   0],\n",
       "       [  0,   0,   0,   0,   0,   0,   0,   0,   0,   0,   0,   0,   3,\n",
       "         18,  18,  18, 126, 136, 175,  26, 166, 255, 247, 127,   0,   0,\n",
       "          0,   0],\n",
       "       [  0,   0,   0,   0,   0,   0,   0,   0,  30,  36,  94, 154, 170,\n",
       "        253, 253, 253, 253, 253, 225, 172, 253, 242, 195,  64,   0,   0,\n",
       "          0,   0],\n",
       "       [  0,   0,   0,   0,   0,   0,   0,  49, 238, 253, 253, 253, 253,\n",
       "        253, 253, 253, 253, 251,  93,  82,  82,  56,  39,   0,   0,   0,\n",
       "          0,   0],\n",
       "       [  0,   0,   0,   0,   0,   0,   0,  18, 219, 253, 253, 253, 253,\n",
       "        253, 198, 182, 247, 241,   0,   0,   0,   0,   0,   0,   0,   0,\n",
       "          0,   0],\n",
       "       [  0,   0,   0,   0,   0,   0,   0,   0,  80, 156, 107, 253, 253,\n",
       "        205,  11,   0,  43, 154,   0,   0,   0,   0,   0,   0,   0,   0,\n",
       "          0,   0],\n",
       "       [  0,   0,   0,   0,   0,   0,   0,   0,   0,  14,   1, 154, 253,\n",
       "         90,   0,   0,   0,   0,   0,   0,   0,   0,   0,   0,   0,   0,\n",
       "          0,   0],\n",
       "       [  0,   0,   0,   0,   0,   0,   0,   0,   0,   0,   0, 139, 253,\n",
       "        190,   2,   0,   0,   0,   0,   0,   0,   0,   0,   0,   0,   0,\n",
       "          0,   0],\n",
       "       [  0,   0,   0,   0,   0,   0,   0,   0,   0,   0,   0,  11, 190,\n",
       "        253,  70,   0,   0,   0,   0,   0,   0,   0,   0,   0,   0,   0,\n",
       "          0,   0],\n",
       "       [  0,   0,   0,   0,   0,   0,   0,   0,   0,   0,   0,   0,  35,\n",
       "        241, 225, 160, 108,   1,   0,   0,   0,   0,   0,   0,   0,   0,\n",
       "          0,   0],\n",
       "       [  0,   0,   0,   0,   0,   0,   0,   0,   0,   0,   0,   0,   0,\n",
       "         81, 240, 253, 253, 119,  25,   0,   0,   0,   0,   0,   0,   0,\n",
       "          0,   0],\n",
       "       [  0,   0,   0,   0,   0,   0,   0,   0,   0,   0,   0,   0,   0,\n",
       "          0,  45, 186, 253, 253, 150,  27,   0,   0,   0,   0,   0,   0,\n",
       "          0,   0],\n",
       "       [  0,   0,   0,   0,   0,   0,   0,   0,   0,   0,   0,   0,   0,\n",
       "          0,   0,  16,  93, 252, 253, 187,   0,   0,   0,   0,   0,   0,\n",
       "          0,   0],\n",
       "       [  0,   0,   0,   0,   0,   0,   0,   0,   0,   0,   0,   0,   0,\n",
       "          0,   0,   0,   0, 249, 253, 249,  64,   0,   0,   0,   0,   0,\n",
       "          0,   0],\n",
       "       [  0,   0,   0,   0,   0,   0,   0,   0,   0,   0,   0,   0,   0,\n",
       "          0,  46, 130, 183, 253, 253, 207,   2,   0,   0,   0,   0,   0,\n",
       "          0,   0],\n",
       "       [  0,   0,   0,   0,   0,   0,   0,   0,   0,   0,   0,   0,  39,\n",
       "        148, 229, 253, 253, 253, 250, 182,   0,   0,   0,   0,   0,   0,\n",
       "          0,   0],\n",
       "       [  0,   0,   0,   0,   0,   0,   0,   0,   0,   0,  24, 114, 221,\n",
       "        253, 253, 253, 253, 201,  78,   0,   0,   0,   0,   0,   0,   0,\n",
       "          0,   0],\n",
       "       [  0,   0,   0,   0,   0,   0,   0,   0,  23,  66, 213, 253, 253,\n",
       "        253, 253, 198,  81,   2,   0,   0,   0,   0,   0,   0,   0,   0,\n",
       "          0,   0],\n",
       "       [  0,   0,   0,   0,   0,   0,  18, 171, 219, 253, 253, 253, 253,\n",
       "        195,  80,   9,   0,   0,   0,   0,   0,   0,   0,   0,   0,   0,\n",
       "          0,   0],\n",
       "       [  0,   0,   0,   0,  55, 172, 226, 253, 253, 253, 253, 244, 133,\n",
       "         11,   0,   0,   0,   0,   0,   0,   0,   0,   0,   0,   0,   0,\n",
       "          0,   0],\n",
       "       [  0,   0,   0,   0, 136, 253, 253, 253, 212, 135, 132,  16,   0,\n",
       "          0,   0,   0,   0,   0,   0,   0,   0,   0,   0,   0,   0,   0,\n",
       "          0,   0],\n",
       "       [  0,   0,   0,   0,   0,   0,   0,   0,   0,   0,   0,   0,   0,\n",
       "          0,   0,   0,   0,   0,   0,   0,   0,   0,   0,   0,   0,   0,\n",
       "          0,   0],\n",
       "       [  0,   0,   0,   0,   0,   0,   0,   0,   0,   0,   0,   0,   0,\n",
       "          0,   0,   0,   0,   0,   0,   0,   0,   0,   0,   0,   0,   0,\n",
       "          0,   0],\n",
       "       [  0,   0,   0,   0,   0,   0,   0,   0,   0,   0,   0,   0,   0,\n",
       "          0,   0,   0,   0,   0,   0,   0,   0,   0,   0,   0,   0,   0,\n",
       "          0,   0]], dtype=uint8)"
      ]
     },
     "execution_count": 12,
     "metadata": {},
     "output_type": "execute_result"
    }
   ],
   "source": [
    "X_train[0]"
   ]
  },
  {
   "cell_type": "code",
   "execution_count": 13,
   "metadata": {
    "ExecuteTime": {
     "end_time": "2019-11-13T07:06:38.824994Z",
     "start_time": "2019-11-13T07:06:38.719183Z"
    }
   },
   "outputs": [
    {
     "data": {
      "image/png": "[encoded data removed]",
      "text/plain": [
       "<Figure size 432x288 with 1 Axes>"
      ]
     },
     "metadata": {
      "needs_background": "light"
     },
     "output_type": "display_data"
    }
   ],
   "source": [
    "plt.imshow(X_train[0], cmap='Greys', interpolation='nearest')\n",
    "plt.show()"
   ]
  },
  {
   "cell_type": "markdown",
   "metadata": {},
   "source": [
    "50000개의 중 랜덤으로 한번 살펴보자"
   ]
  },
  {
   "cell_type": "code",
   "execution_count": 14,
   "metadata": {
    "ExecuteTime": {
     "end_time": "2019-11-13T07:08:28.896785Z",
     "start_time": "2019-11-13T07:08:27.615054Z"
    }
   },
   "outputs": [
    {
     "data": {
      "image/png": "[encoded data removed]",
      "text/plain": [
       "<Figure size 864x576 with 16 Axes>"
      ]
     },
     "metadata": {
      "needs_background": "light"
     },
     "output_type": "display_data"
    }
   ],
   "source": [
    "# 재연성을 위하여 랜덤시드 고정\n",
    "np.random.seed(1234)  \n",
    "\n",
    "# random 함수를 통해서 임의의 16개 데이터 가져오기\n",
    "samples = np.random.randint(0,len(X_train)+1,size=16)\n",
    "\n",
    "# MNIST를 그릴 Figure 준비\n",
    "plt.figure(figsize=(12,8))\n",
    "\n",
    "# 16개의 이미지 시각화\n",
    "for count, n in enumerate(samples,start=1):\n",
    "    plt.subplot(4, 4, count)\n",
    "    plt.imshow(X_train[n], cmap='Greys', interpolation='nearest')\n",
    "    label_name = \"Label:\" + str(y_train[n])\n",
    "    plt.title(label_name)\n",
    "\n",
    "plt.tight_layout()\n",
    "plt.show()"
   ]
  },
  {
   "cell_type": "markdown",
   "metadata": {},
   "source": [
    "### 데이터 전처리"
   ]
  },
  {
   "cell_type": "code",
   "execution_count": 15,
   "metadata": {
    "ExecuteTime": {
     "end_time": "2019-11-13T07:09:39.910209Z",
     "start_time": "2019-11-13T07:09:39.856430Z"
    }
   },
   "outputs": [],
   "source": [
    "# 데이터 크기 조정(Data Reshape)\n",
    "X_train = X_train.reshape(X_train.shape[0],28,28,1)\n",
    "X_valid = X_valid.reshape(X_valid.shape[0],28,28,1)\n",
    "X_test = X_test.reshape(X_test.shape[0],28,28,1)\n",
    "\n",
    "# 데이터 포맷 바꾸기\n",
    "# 정수(int)인 데이터에서 실수(float)으로 변환\n",
    "X_train = X_train.astype('float32')\n",
    "X_valid = X_valid.astype('float32')\n",
    "X_test = X_test.astype('float32')\n",
    "\n",
    "# 데이터 정규화(Data Regularization)\n",
    "# 이 과정을 통해서 추후 학습할 신경망이 조금 더 학습이 원할히 될 수 있게함\n",
    "X_train = X_train / 255\n",
    "X_valid = X_valid / 255\n",
    "X_test = X_test / 255\n",
    "\n",
    "# 원-핫 인코딩(One Hot Encoding)\n",
    "# Keras의 to_categorical함수를 통해서 모든 Train 데이터의 레이블을 벡터화(Vectorize)\n",
    "# ex) [3] -> [0 0 0 1 0 0 0 0 0 0]\n",
    "y_train = to_categorical(y_train, 10) \n",
    "y_valid = to_categorical(y_valid,10)\n",
    "y_test = to_categorical(y_test, 10)"
   ]
  },
  {
   "cell_type": "markdown",
   "metadata": {},
   "source": [
    "### 모델링\n",
    "\n",
    "간단하게 CNN 모델을 이용하여, MNIST 데이터를 분류해보자."
   ]
  },
  {
   "cell_type": "code",
   "execution_count": 16,
   "metadata": {
    "ExecuteTime": {
     "end_time": "2019-11-13T07:11:21.651097Z",
     "start_time": "2019-11-13T07:11:21.646435Z"
    }
   },
   "outputs": [],
   "source": [
    "INPUT_SHAPE = (28,28,1)\n",
    "KERNEL_SIZE = (3, 3)\n",
    "DROP_RATE = 0.3"
   ]
  },
  {
   "cell_type": "markdown",
   "metadata": {},
   "source": [
    "#### 모델 구성\n",
    "Keras에서는 add함수를 통해서 레고 블록을 조립하듯이, 원하는 Layer를 추가 가능함  \n",
    "여기서는 Conv Layer와 MaxPooling Layer 그리고 Dense Layer를 이용하여 모델을 구성하도록 하자"
   ]
  },
  {
   "cell_type": "code",
   "execution_count": 19,
   "metadata": {
    "ExecuteTime": {
     "end_time": "2019-11-13T07:13:27.043143Z",
     "start_time": "2019-11-13T07:13:26.958845Z"
    }
   },
   "outputs": [],
   "source": [
    "model = Sequential()\n",
    "\n",
    "# 1번쨰 ConvNet\n",
    "# Conv Layer\n",
    "model.add(Conv2D(filters=64,\n",
    "                 kernel_size=KERNEL_SIZE,\n",
    "                 activation='relu',\n",
    "                 input_shape=INPUT_SHAPE\n",
    "                 ))\n",
    "# Max Pooling Layer\n",
    "model.add(MaxPooling2D(pool_size=(2, 2)))\n",
    "\n",
    "# 2번쨰 Conv Layer\n",
    "# Conv Layer\n",
    "model.add(Conv2D(filters=128,\n",
    "                 kernel_size=KERNEL_SIZE,\n",
    "                 activation='relu',\n",
    "                 ))\n",
    "# Max Pooling Layer\n",
    "model.add(MaxPooling2D(pool_size=(2, 2)))\n",
    "\n",
    "# 분류를 하기 위해 shape을 1차원으로 맞추는 Layer\n",
    "model.add(Flatten())\n",
    "model.add(Dense(units=1024, activation='relu'))\n",
    "model.add(Dropout(rate=DROP_RATE))\n",
    "\n",
    "# 마지막 분류를 하기 위한 Fully Connected Layer\n",
    "# One Hot Encoding을 했으므로 activation function은 softmax로 처리함\n",
    "model.add(Dense(units=10, activation='softmax'))"
   ]
  },
  {
   "cell_type": "markdown",
   "metadata": {},
   "source": [
    "#### 모델 컴파일"
   ]
  },
  {
   "cell_type": "code",
   "execution_count": 20,
   "metadata": {
    "ExecuteTime": {
     "end_time": "2019-11-13T07:14:05.239657Z",
     "start_time": "2019-11-13T07:14:05.196873Z"
    }
   },
   "outputs": [],
   "source": [
    "model.compile(loss=categorical_crossentropy,\n",
    "              optimizer=Adam(),\n",
    "              metrics=['acc'])"
   ]
  },
  {
   "cell_type": "markdown",
   "metadata": {},
   "source": [
    "#### 모델 확인"
   ]
  },
  {
   "cell_type": "code",
   "execution_count": 21,
   "metadata": {
    "ExecuteTime": {
     "end_time": "2019-11-13T07:14:08.539371Z",
     "start_time": "2019-11-13T07:14:08.448880Z"
    }
   },
   "outputs": [
    {
     "name": "stdout",
     "output_type": "stream",
     "text": [
      "Model: \"sequential_1\"\n",
      "_________________________________________________________________\n",
      "Layer (type)                 Output Shape              Param #   \n",
      "=================================================================\n",
      "conv2d_2 (Conv2D)            (None, 26, 26, 64)        640       \n",
      "_________________________________________________________________\n",
      "max_pooling2d_2 (MaxPooling2 (None, 13, 13, 64)        0         \n",
      "_________________________________________________________________\n",
      "conv2d_3 (Conv2D)            (None, 11, 11, 128)       73856     \n",
      "_________________________________________________________________\n",
      "max_pooling2d_3 (MaxPooling2 (None, 5, 5, 128)         0         \n",
      "_________________________________________________________________\n",
      "flatten_1 (Flatten)          (None, 3200)              0         \n",
      "_________________________________________________________________\n",
      "dense_2 (Dense)              (None, 1024)              3277824   \n",
      "_________________________________________________________________\n",
      "dropout_1 (Dropout)          (None, 1024)              0         \n",
      "_________________________________________________________________\n",
      "dense_3 (Dense)              (None, 10)                10250     \n",
      "=================================================================\n",
      "Total params: 3,362,570\n",
      "Trainable params: 3,362,570\n",
      "Non-trainable params: 0\n",
      "_________________________________________________________________\n",
      "Failed to import pydot. You must install pydot and graphviz for `pydotprint` to work.\n"
     ]
    }
   ],
   "source": [
    "model.summary()\n",
    "\n",
    "plot_model(model, to_file='./img/model/mnist_cnn_model.png', show_shapes=True)"
   ]
  },
  {
   "cell_type": "markdown",
   "metadata": {},
   "source": [
    "### 신경망 모델 학습\n",
    "\n",
    "Keras의 `fit`의 메소드를 통해서 간단하게 학습가능하다. 이번 예제에서는 여기서는 10번의 epoch만으로 학습을 진행하도록 한다. 그리고 앞서 준비한 검증 데이터(Validation Set)을 통해서 신경망의 오버피팅 여부를 판단하도록 하자."
   ]
  },
  {
   "cell_type": "code",
   "execution_count": 22,
   "metadata": {
    "ExecuteTime": {
     "end_time": "2019-11-13T07:15:19.243009Z",
     "start_time": "2019-11-13T07:15:19.238184Z"
    }
   },
   "outputs": [],
   "source": [
    "EPOCHS = 3\n",
    "BATCH_SIZE = 64"
   ]
  },
  {
   "cell_type": "code",
   "execution_count": 23,
   "metadata": {
    "ExecuteTime": {
     "end_time": "2019-11-13T07:16:17.378519Z",
     "start_time": "2019-11-13T07:15:34.918097Z"
    }
   },
   "outputs": [
    {
     "name": "stdout",
     "output_type": "stream",
     "text": [
      "Train on 50000 samples, validate on 10000 samples\n",
      "Epoch 1/3\n",
      "50000/50000 [==============================] - 46s 913us/sample - loss: 0.1281 - acc: 0.9600 - val_loss: 0.0517 - val_acc: 0.9849\n",
      "Epoch 2/3\n",
      "50000/50000 [==============================] - 46s 914us/sample - loss: 0.0420 - acc: 0.9866 - val_loss: 0.0478 - val_acc: 0.9868\n",
      "Epoch 3/3\n",
      "50000/50000 [==============================] - 46s 920us/sample - loss: 0.0285 - acc: 0.9910 - val_loss: 0.0408 - val_acc: 0.9873\n"
     ]
    }
   ],
   "source": [
    "history = model.fit(X_train,  # 학습할 데이터\n",
    "                    y_train,  # 학습할 레이블\n",
    "                    epochs=EPOCHS,  # 전체 학습할 횟수\n",
    "                    batch_size=BATCH_SIZE,  # 배치 사이즈\n",
    "                    use_multiprocessing=True,\n",
    "                    validation_data=(X_valid, y_valid) # 검증 데이터로 확인\n",
    "                   )"
   ]
  },
  {
   "cell_type": "code",
   "execution_count": 24,
   "metadata": {
    "ExecuteTime": {
     "end_time": "2019-11-13T07:17:24.360635Z",
     "start_time": "2019-11-13T07:17:24.175745Z"
    }
   },
   "outputs": [],
   "source": [
    "# 학습된 모델 weight 저장 \n",
    "model.save('./bin/mnist_cnn.h5')"
   ]
  },
  {
   "cell_type": "markdown",
   "metadata": {},
   "source": [
    "### 신경망 모델 평가\n",
    "\n",
    "위에서 학습된 결과를 시각화 해보자"
   ]
  },
  {
   "cell_type": "code",
   "execution_count": 25,
   "metadata": {
    "ExecuteTime": {
     "end_time": "2019-11-13T07:19:17.060519Z",
     "start_time": "2019-11-13T07:19:12.752656Z"
    }
   },
   "outputs": [
    {
     "name": "stdout",
     "output_type": "stream",
     "text": [
      "Train Loss : 0.01884943158873124\n",
      "Train Accuracy : 0.9944400191307068\n",
      "Validation Loss : 0.04078557310071192\n",
      "Validation Accuracy : 0.9872999787330627\n"
     ]
    }
   ],
   "source": [
    "# Train 데이터로 평가하기\n",
    "train_loss, train_acc = model.evaluate(X_train,y_train,verbose=0)\n",
    "print('Train Loss : {}'.format(train_loss))\n",
    "print('Train Accuracy : {}'.format(train_acc))\n",
    "\n",
    "# Validation 데이터로 평가하기\n",
    "valid_loss, valid_acc = model.evaluate(X_valid,y_valid,verbose=0)\n",
    "print('Validation Loss : {}'.format(valid_loss))\n",
    "print('Validation Accuracy : {}'.format(valid_acc))"
   ]
  },
  {
   "cell_type": "code",
   "execution_count": 26,
   "metadata": {
    "ExecuteTime": {
     "end_time": "2019-11-13T07:21:47.975694Z",
     "start_time": "2019-11-13T07:21:47.829752Z"
    }
   },
   "outputs": [
    {
     "data": {
      "image/png": "[encoded data removed]",
      "text/plain": [
       "<Figure size 432x288 with 1 Axes>"
      ]
     },
     "metadata": {
      "needs_background": "light"
     },
     "output_type": "display_data"
    }
   ],
   "source": [
    "# Train / Validation 데이터에 대해서 Loss 시각화\n",
    "loss = history.history['loss']\n",
    "val_loss = history.history['val_loss']\n",
    "epochs = range(1,len(loss)+1)\n",
    "\n",
    "plt.plot(epochs,loss,label='Training Loss')\n",
    "plt.plot(epochs,val_loss,label='Validation Loss')\n",
    "plt.title('Training and Validation Loss')\n",
    "plt.xlabel('Epochs')\n",
    "plt.ylabel('Loss')\n",
    "plt.legend()\n",
    "plt.grid(True)\n",
    "plt.show()"
   ]
  },
  {
   "cell_type": "code",
   "execution_count": 27,
   "metadata": {
    "ExecuteTime": {
     "end_time": "2019-11-13T07:22:00.493948Z",
     "start_time": "2019-11-13T07:22:00.359598Z"
    }
   },
   "outputs": [
    {
     "data": {
      "image/png": "[encoded data removed]",
      "text/plain": [
       "<Figure size 432x288 with 1 Axes>"
      ]
     },
     "metadata": {
      "needs_background": "light"
     },
     "output_type": "display_data"
    }
   ],
   "source": [
    "# Train / Validation 데이터에 대해서 Accuracy 시각화\n",
    "acc = history.history['acc']\n",
    "val_acc = history.history['val_acc']\n",
    "epochs = range(1,len(loss)+1)\n",
    "\n",
    "plt.plot(epochs,acc,label='Training Accuarcy')\n",
    "plt.plot(epochs,val_acc,label='Validation Accuarcy')\n",
    "plt.title('Training and Validation Accuarcy')\n",
    "plt.xlabel('Epochs')\n",
    "plt.ylabel('Accuarcy')\n",
    "plt.legend()\n",
    "plt.grid(True)\n",
    "plt.show()"
   ]
  },
  {
   "cell_type": "markdown",
   "metadata": {},
   "source": [
    "### 신경망 모델 검증하기\n",
    "\n",
    "MNIST 데이터셋을 학습한 모델을 놀랍게도 정확도 99% 이상의 성능을 보인다.  \n",
    "그렇다면 이러한 신경망이 학습에 전혀 사용되지 않는 데이터인 Test 데이터셋에서는 어떤 결과를 보이는지 살펴보자"
   ]
  },
  {
   "cell_type": "code",
   "execution_count": 28,
   "metadata": {
    "ExecuteTime": {
     "end_time": "2019-11-13T07:22:28.438368Z",
     "start_time": "2019-11-13T07:22:27.637120Z"
    }
   },
   "outputs": [
    {
     "name": "stdout",
     "output_type": "stream",
     "text": [
      "Validation Loss : 0.03670742289735936\n",
      "Validation Accuracy : 0.9887999892234802\n"
     ]
    }
   ],
   "source": [
    "test_loss, test_acc = model.evaluate(X_test,y_test,verbose=0)\n",
    "print('Validation Loss : {}'.format(test_loss))\n",
    "print('Validation Accuracy : {}'.format(test_acc))"
   ]
  },
  {
   "cell_type": "markdown",
   "metadata": {},
   "source": [
    "Test 데이터에 대해서도 99%의 정확도를 보여준다.  \n",
    "\n",
    "그러면 과연 학습된 신경망이 어떠한 데이터를 잘 못 예측했는지 살펴보자."
   ]
  },
  {
   "cell_type": "code",
   "execution_count": 27,
   "metadata": {
    "ExecuteTime": {
     "end_time": "2019-11-13T07:22:54.657834Z",
     "start_time": "2019-11-13T07:22:52.392044Z"
    }
   },
   "outputs": [
    {
     "data": {
      "image/png": "[encoded data removed]",
      "text/plain": [
       "<Figure size 864x576 with 16 Axes>"
      ]
     },
     "metadata": {
      "needs_background": "light"
     },
     "output_type": "display_data"
    }
   ],
   "source": [
    "# 재연성을 위하여 랜덤시드 고정\n",
    "random.seed('intel') \n",
    "\n",
    "# TEST 데이터 예측하기\n",
    "predicted_result = model.predict(X_test) \n",
    "predicted_labels = np.argmax(predicted_result, axis=1)\n",
    "\n",
    "# TEST 데이터의 정답 가져오기\n",
    "test_labels = np.argmax(y_test, axis=1)\n",
    "\n",
    "# 잘못 예측한 데이터 찾기\n",
    "wrong_result = []\n",
    "for n in range(0, len(test_labels)):\n",
    "    if predicted_labels[n] != test_labels[n]:\n",
    "        wrong_result.append(n)\n",
    "\n",
    "# random 함수를 통해서 임의의 16개 데이터 가져오기\n",
    "# samples = random.choices(population=wrong_result, k=16)\n",
    "wrong_result = np.array(wrong_result)\n",
    "samples = wrong_result[np.random.randint(len(wrong_result),size=16)]\n",
    "\n",
    "# MNIST를 그릴 Figure 준비\n",
    "plt.figure(figsize=(12,8))\n",
    "\n",
    "# 16개의 이미지 시각화\n",
    "for count, n in enumerate(samples,start=1):\n",
    "    plt.subplot(4, 4, count)\n",
    "    plt.imshow(X_test[n].reshape(28, 28), cmap='Greys', interpolation='nearest')\n",
    "    tmp = \"Label:\" + str(test_labels[n]) + \", Prediction:\" + str(predicted_labels[n])\n",
    "    plt.title(tmp)\n",
    "\n",
    "plt.tight_layout()\n",
    "plt.savefig('./img/result/mnist_wrong_result.png')\n",
    "plt.show()"
   ]
  },
  {
   "cell_type": "markdown",
   "metadata": {},
   "source": [
    "놀랍게도 모델이 틀린 데이터는 언뜻보면 사람조차도 헷갈릴 수 있을만한 데이터라는 걸 확인할 수 있다.\n",
    "\n",
    "아래 그림은 CNN 모델일 학습이 진행될때마다 활성화되는 부분을 시각화한 자료이다.\n",
    "\n",
    "![](https://thumbs.gfycat.com/SmoggyLittleFlickertailsquirrel-size_restricted.gif)"
   ]
  },
  {
   "cell_type": "markdown",
   "metadata": {},
   "source": [
    "### 다음 예제에서는\n",
    "\n",
    "CNN을 통해서 MNIST와 같은 간단한 예제를 분류할 수 있었다. 다음 예제에서는 RGB 이미지를 한번 분류하는 예제를 더 깊은 CNN으로 수행해보도록 하자."
   ]
  },
  {
   "cell_type": "markdown",
   "metadata": {},
   "source": [
    "---\n",
    "\n",
    "## 참고\n",
    "\n",
    "- Intel OpenVINO\n",
    "    - https://software.intel.com/en-us/openvino-toolkit\n",
    "- MNIST\n",
    "    - http://yann.lecun.com/exdb/mnist/\n",
    "    - https://pinkwink.kr/1121\n",
    "- Tensorflow\n",
    "    - https://www.tensorflow.org/?hl=ko\n",
    "- Keras\n",
    "    - https://keras.io/\n",
    "    - https://tensorflow.blog/2019/03/06/tensorflow-2-0-keras-api-overview/\n",
    "    - https://tykimos.github.io/2017/02/22/Integrating_Keras_and_TensorFlow/\n",
    "    - https://tykimos.github.io/2017/03/08/CNN_Getting_Started/\n",
    "    - https://raw.githubusercontent.com/keras-team/keras-docs-ko/master/sources/why-use-keras.md\n",
    "- Keras to Caffe\n",
    "     - https://github.com/uhfband/keras2caffe\n",
    "     - http://www.deepvisionconsulting.com/from-keras-to-caffe/\n",
    "- Fully Connected Layer\n",
    "    - https://sonofgodcom.wordpress.com/2018/12/31/cnn%EC%9D%84-%EC%9D%B4%ED%95%B4%ED%95%B4%EB%B3%B4%EC%9E%90-fully-connected-layer%EB%8A%94-%EB%AD%94%EA%B0%80/\n",
    "- Convultional Nueral Network\n",
    "    - http://aikorea.org/cs231n/convolutional-networks/\n",
    "    - http://cs231n.stanford.edu/\n",
    "- CNN Models\n",
    "    - https://ratsgo.github.io/deep%20learning/2017/10/09/CNNs/\n"
   ]
  }
 ],
 "metadata": {
  "kernelspec": {
   "display_name": "Python 3",
   "language": "python",
   "name": "python3"
  },
  "language_info": {
   "codemirror_mode": {
    "name": "ipython",
    "version": 3
   },
   "file_extension": ".py",
   "mimetype": "text/x-python",
   "name": "python",
   "nbconvert_exporter": "python",
   "pygments_lexer": "ipython3",
   "version": "3.5.2"
  },
  "toc": {
   "base_numbering": 1,
   "nav_menu": {},
   "number_sections": true,
   "sideBar": true,
   "skip_h1_title": true,
   "title_cell": "강의목차",
   "title_sidebar": "강의목차",
   "toc_cell": true,
   "toc_position": {
    "height": "504px",
    "left": "27px",
    "top": "110px",
    "width": "264.297px"
   },
   "toc_section_display": true,
   "toc_window_display": true
  }
 },
 "nbformat": 4,
 "nbformat_minor": 2
}
